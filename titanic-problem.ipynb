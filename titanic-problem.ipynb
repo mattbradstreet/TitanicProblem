{
 "cells": [
  {
   "cell_type": "code",
   "execution_count": 1,
   "id": "21206a1d",
   "metadata": {
    "_cell_guid": "b1076dfc-b9ad-4769-8c92-a6c4dae69d19",
    "_uuid": "8f2839f25d086af736a60e9eeb907d3b93b6e0e5",
    "execution": {
     "iopub.execute_input": "2024-01-18T16:54:37.695350Z",
     "iopub.status.busy": "2024-01-18T16:54:37.694948Z",
     "iopub.status.idle": "2024-01-18T16:54:38.140041Z",
     "shell.execute_reply": "2024-01-18T16:54:38.138699Z"
    },
    "papermill": {
     "duration": 0.461563,
     "end_time": "2024-01-18T16:54:38.142852",
     "exception": false,
     "start_time": "2024-01-18T16:54:37.681289",
     "status": "completed"
    },
    "tags": []
   },
   "outputs": [
    {
     "name": "stdout",
     "output_type": "stream",
     "text": [
      "/kaggle/input/titanic/train.csv\n",
      "/kaggle/input/titanic/test.csv\n",
      "/kaggle/input/titanic/gender_submission.csv\n"
     ]
    }
   ],
   "source": [
    "# This Python 3 environment comes with many helpful analytics libraries installed\n",
    "# It is defined by the kaggle/python Docker image: https://github.com/kaggle/docker-python\n",
    "# For example, here's several helpful packages to load\n",
    "\n",
    "import numpy as np # linear algebra\n",
    "import pandas as pd # data processing, CSV file I/O (e.g. pd.read_csv)\n",
    "\n",
    "# Input data files are available in the read-only \"../input/\" directory\n",
    "# For example, running this (by clicking run or pressing Shift+Enter) will list all files under the input directory\n",
    "\n",
    "import os\n",
    "for dirname, _, filenames in os.walk('/kaggle/input'):\n",
    "    for filename in filenames:\n",
    "        print(os.path.join(dirname, filename))\n",
    "\n",
    "# You can write up to 20GB to the current directory (/kaggle/working/) that gets preserved as output when you create a version using \"Save & Run All\" \n",
    "# You can also write temporary files to /kaggle/temp/, but they won't be saved outside of the current session"
   ]
  },
  {
   "cell_type": "code",
   "execution_count": 2,
   "id": "ea0676b5",
   "metadata": {
    "execution": {
     "iopub.execute_input": "2024-01-18T16:54:38.168380Z",
     "iopub.status.busy": "2024-01-18T16:54:38.167519Z",
     "iopub.status.idle": "2024-01-18T16:54:38.213487Z",
     "shell.execute_reply": "2024-01-18T16:54:38.212252Z"
    },
    "papermill": {
     "duration": 0.061373,
     "end_time": "2024-01-18T16:54:38.216162",
     "exception": false,
     "start_time": "2024-01-18T16:54:38.154789",
     "status": "completed"
    },
    "tags": []
   },
   "outputs": [
    {
     "data": {
      "text/html": [
       "<div>\n",
       "<style scoped>\n",
       "    .dataframe tbody tr th:only-of-type {\n",
       "        vertical-align: middle;\n",
       "    }\n",
       "\n",
       "    .dataframe tbody tr th {\n",
       "        vertical-align: top;\n",
       "    }\n",
       "\n",
       "    .dataframe thead th {\n",
       "        text-align: right;\n",
       "    }\n",
       "</style>\n",
       "<table border=\"1\" class=\"dataframe\">\n",
       "  <thead>\n",
       "    <tr style=\"text-align: right;\">\n",
       "      <th></th>\n",
       "      <th>PassengerId</th>\n",
       "      <th>Survived</th>\n",
       "      <th>Pclass</th>\n",
       "      <th>Name</th>\n",
       "      <th>Sex</th>\n",
       "      <th>Age</th>\n",
       "      <th>SibSp</th>\n",
       "      <th>Parch</th>\n",
       "      <th>Ticket</th>\n",
       "      <th>Fare</th>\n",
       "      <th>Cabin</th>\n",
       "      <th>Embarked</th>\n",
       "    </tr>\n",
       "  </thead>\n",
       "  <tbody>\n",
       "    <tr>\n",
       "      <th>0</th>\n",
       "      <td>1</td>\n",
       "      <td>0</td>\n",
       "      <td>3</td>\n",
       "      <td>Braund, Mr. Owen Harris</td>\n",
       "      <td>male</td>\n",
       "      <td>22.0</td>\n",
       "      <td>1</td>\n",
       "      <td>0</td>\n",
       "      <td>A/5 21171</td>\n",
       "      <td>7.2500</td>\n",
       "      <td>NaN</td>\n",
       "      <td>S</td>\n",
       "    </tr>\n",
       "    <tr>\n",
       "      <th>1</th>\n",
       "      <td>2</td>\n",
       "      <td>1</td>\n",
       "      <td>1</td>\n",
       "      <td>Cumings, Mrs. John Bradley (Florence Briggs Th...</td>\n",
       "      <td>female</td>\n",
       "      <td>38.0</td>\n",
       "      <td>1</td>\n",
       "      <td>0</td>\n",
       "      <td>PC 17599</td>\n",
       "      <td>71.2833</td>\n",
       "      <td>C85</td>\n",
       "      <td>C</td>\n",
       "    </tr>\n",
       "    <tr>\n",
       "      <th>2</th>\n",
       "      <td>3</td>\n",
       "      <td>1</td>\n",
       "      <td>3</td>\n",
       "      <td>Heikkinen, Miss. Laina</td>\n",
       "      <td>female</td>\n",
       "      <td>26.0</td>\n",
       "      <td>0</td>\n",
       "      <td>0</td>\n",
       "      <td>STON/O2. 3101282</td>\n",
       "      <td>7.9250</td>\n",
       "      <td>NaN</td>\n",
       "      <td>S</td>\n",
       "    </tr>\n",
       "    <tr>\n",
       "      <th>3</th>\n",
       "      <td>4</td>\n",
       "      <td>1</td>\n",
       "      <td>1</td>\n",
       "      <td>Futrelle, Mrs. Jacques Heath (Lily May Peel)</td>\n",
       "      <td>female</td>\n",
       "      <td>35.0</td>\n",
       "      <td>1</td>\n",
       "      <td>0</td>\n",
       "      <td>113803</td>\n",
       "      <td>53.1000</td>\n",
       "      <td>C123</td>\n",
       "      <td>S</td>\n",
       "    </tr>\n",
       "    <tr>\n",
       "      <th>4</th>\n",
       "      <td>5</td>\n",
       "      <td>0</td>\n",
       "      <td>3</td>\n",
       "      <td>Allen, Mr. William Henry</td>\n",
       "      <td>male</td>\n",
       "      <td>35.0</td>\n",
       "      <td>0</td>\n",
       "      <td>0</td>\n",
       "      <td>373450</td>\n",
       "      <td>8.0500</td>\n",
       "      <td>NaN</td>\n",
       "      <td>S</td>\n",
       "    </tr>\n",
       "  </tbody>\n",
       "</table>\n",
       "</div>"
      ],
      "text/plain": [
       "   PassengerId  Survived  Pclass  \\\n",
       "0            1         0       3   \n",
       "1            2         1       1   \n",
       "2            3         1       3   \n",
       "3            4         1       1   \n",
       "4            5         0       3   \n",
       "\n",
       "                                                Name     Sex   Age  SibSp  \\\n",
       "0                            Braund, Mr. Owen Harris    male  22.0      1   \n",
       "1  Cumings, Mrs. John Bradley (Florence Briggs Th...  female  38.0      1   \n",
       "2                             Heikkinen, Miss. Laina  female  26.0      0   \n",
       "3       Futrelle, Mrs. Jacques Heath (Lily May Peel)  female  35.0      1   \n",
       "4                           Allen, Mr. William Henry    male  35.0      0   \n",
       "\n",
       "   Parch            Ticket     Fare Cabin Embarked  \n",
       "0      0         A/5 21171   7.2500   NaN        S  \n",
       "1      0          PC 17599  71.2833   C85        C  \n",
       "2      0  STON/O2. 3101282   7.9250   NaN        S  \n",
       "3      0            113803  53.1000  C123        S  \n",
       "4      0            373450   8.0500   NaN        S  "
      ]
     },
     "execution_count": 2,
     "metadata": {},
     "output_type": "execute_result"
    }
   ],
   "source": [
    "train_data = pd.read_csv(\"/kaggle/input/titanic/train.csv\")\n",
    "train_data.head()"
   ]
  },
  {
   "cell_type": "code",
   "execution_count": 3,
   "id": "39d26ce5",
   "metadata": {
    "execution": {
     "iopub.execute_input": "2024-01-18T16:54:38.243062Z",
     "iopub.status.busy": "2024-01-18T16:54:38.242633Z",
     "iopub.status.idle": "2024-01-18T16:54:38.267874Z",
     "shell.execute_reply": "2024-01-18T16:54:38.266689Z"
    },
    "papermill": {
     "duration": 0.042527,
     "end_time": "2024-01-18T16:54:38.270431",
     "exception": false,
     "start_time": "2024-01-18T16:54:38.227904",
     "status": "completed"
    },
    "tags": []
   },
   "outputs": [
    {
     "data": {
      "text/html": [
       "<div>\n",
       "<style scoped>\n",
       "    .dataframe tbody tr th:only-of-type {\n",
       "        vertical-align: middle;\n",
       "    }\n",
       "\n",
       "    .dataframe tbody tr th {\n",
       "        vertical-align: top;\n",
       "    }\n",
       "\n",
       "    .dataframe thead th {\n",
       "        text-align: right;\n",
       "    }\n",
       "</style>\n",
       "<table border=\"1\" class=\"dataframe\">\n",
       "  <thead>\n",
       "    <tr style=\"text-align: right;\">\n",
       "      <th></th>\n",
       "      <th>PassengerId</th>\n",
       "      <th>Pclass</th>\n",
       "      <th>Name</th>\n",
       "      <th>Sex</th>\n",
       "      <th>Age</th>\n",
       "      <th>SibSp</th>\n",
       "      <th>Parch</th>\n",
       "      <th>Ticket</th>\n",
       "      <th>Fare</th>\n",
       "      <th>Cabin</th>\n",
       "      <th>Embarked</th>\n",
       "    </tr>\n",
       "  </thead>\n",
       "  <tbody>\n",
       "    <tr>\n",
       "      <th>0</th>\n",
       "      <td>892</td>\n",
       "      <td>3</td>\n",
       "      <td>Kelly, Mr. James</td>\n",
       "      <td>male</td>\n",
       "      <td>34.5</td>\n",
       "      <td>0</td>\n",
       "      <td>0</td>\n",
       "      <td>330911</td>\n",
       "      <td>7.8292</td>\n",
       "      <td>NaN</td>\n",
       "      <td>Q</td>\n",
       "    </tr>\n",
       "    <tr>\n",
       "      <th>1</th>\n",
       "      <td>893</td>\n",
       "      <td>3</td>\n",
       "      <td>Wilkes, Mrs. James (Ellen Needs)</td>\n",
       "      <td>female</td>\n",
       "      <td>47.0</td>\n",
       "      <td>1</td>\n",
       "      <td>0</td>\n",
       "      <td>363272</td>\n",
       "      <td>7.0000</td>\n",
       "      <td>NaN</td>\n",
       "      <td>S</td>\n",
       "    </tr>\n",
       "    <tr>\n",
       "      <th>2</th>\n",
       "      <td>894</td>\n",
       "      <td>2</td>\n",
       "      <td>Myles, Mr. Thomas Francis</td>\n",
       "      <td>male</td>\n",
       "      <td>62.0</td>\n",
       "      <td>0</td>\n",
       "      <td>0</td>\n",
       "      <td>240276</td>\n",
       "      <td>9.6875</td>\n",
       "      <td>NaN</td>\n",
       "      <td>Q</td>\n",
       "    </tr>\n",
       "    <tr>\n",
       "      <th>3</th>\n",
       "      <td>895</td>\n",
       "      <td>3</td>\n",
       "      <td>Wirz, Mr. Albert</td>\n",
       "      <td>male</td>\n",
       "      <td>27.0</td>\n",
       "      <td>0</td>\n",
       "      <td>0</td>\n",
       "      <td>315154</td>\n",
       "      <td>8.6625</td>\n",
       "      <td>NaN</td>\n",
       "      <td>S</td>\n",
       "    </tr>\n",
       "    <tr>\n",
       "      <th>4</th>\n",
       "      <td>896</td>\n",
       "      <td>3</td>\n",
       "      <td>Hirvonen, Mrs. Alexander (Helga E Lindqvist)</td>\n",
       "      <td>female</td>\n",
       "      <td>22.0</td>\n",
       "      <td>1</td>\n",
       "      <td>1</td>\n",
       "      <td>3101298</td>\n",
       "      <td>12.2875</td>\n",
       "      <td>NaN</td>\n",
       "      <td>S</td>\n",
       "    </tr>\n",
       "  </tbody>\n",
       "</table>\n",
       "</div>"
      ],
      "text/plain": [
       "   PassengerId  Pclass                                          Name     Sex  \\\n",
       "0          892       3                              Kelly, Mr. James    male   \n",
       "1          893       3              Wilkes, Mrs. James (Ellen Needs)  female   \n",
       "2          894       2                     Myles, Mr. Thomas Francis    male   \n",
       "3          895       3                              Wirz, Mr. Albert    male   \n",
       "4          896       3  Hirvonen, Mrs. Alexander (Helga E Lindqvist)  female   \n",
       "\n",
       "    Age  SibSp  Parch   Ticket     Fare Cabin Embarked  \n",
       "0  34.5      0      0   330911   7.8292   NaN        Q  \n",
       "1  47.0      1      0   363272   7.0000   NaN        S  \n",
       "2  62.0      0      0   240276   9.6875   NaN        Q  \n",
       "3  27.0      0      0   315154   8.6625   NaN        S  \n",
       "4  22.0      1      1  3101298  12.2875   NaN        S  "
      ]
     },
     "execution_count": 3,
     "metadata": {},
     "output_type": "execute_result"
    }
   ],
   "source": [
    "test_data = pd.read_csv(\"/kaggle/input/titanic/test.csv\")\n",
    "test_data.head()"
   ]
  },
  {
   "cell_type": "code",
   "execution_count": 4,
   "id": "aa17e417",
   "metadata": {
    "execution": {
     "iopub.execute_input": "2024-01-18T16:54:38.297967Z",
     "iopub.status.busy": "2024-01-18T16:54:38.297551Z",
     "iopub.status.idle": "2024-01-18T16:54:39.591480Z",
     "shell.execute_reply": "2024-01-18T16:54:39.590474Z"
    },
    "papermill": {
     "duration": 1.310619,
     "end_time": "2024-01-18T16:54:39.594352",
     "exception": false,
     "start_time": "2024-01-18T16:54:38.283733",
     "status": "completed"
    },
    "tags": []
   },
   "outputs": [],
   "source": [
    "import seaborn as sns\n",
    "import matplotlib.pyplot as plt"
   ]
  },
  {
   "cell_type": "code",
   "execution_count": 5,
   "id": "ef0c08f0",
   "metadata": {
    "execution": {
     "iopub.execute_input": "2024-01-18T16:54:39.620813Z",
     "iopub.status.busy": "2024-01-18T16:54:39.620408Z",
     "iopub.status.idle": "2024-01-18T16:54:39.730988Z",
     "shell.execute_reply": "2024-01-18T16:54:39.729942Z"
    },
    "papermill": {
     "duration": 0.126646,
     "end_time": "2024-01-18T16:54:39.733835",
     "exception": false,
     "start_time": "2024-01-18T16:54:39.607189",
     "status": "completed"
    },
    "tags": []
   },
   "outputs": [
    {
     "name": "stdout",
     "output_type": "stream",
     "text": [
      "<class 'pandas.core.frame.DataFrame'>\n",
      "RangeIndex: 891 entries, 0 to 890\n",
      "Data columns (total 12 columns):\n",
      " #   Column       Non-Null Count  Dtype  \n",
      "---  ------       --------------  -----  \n",
      " 0   PassengerId  891 non-null    int64  \n",
      " 1   Survived     891 non-null    int64  \n",
      " 2   Pclass       891 non-null    int64  \n",
      " 3   Name         891 non-null    object \n",
      " 4   Sex          891 non-null    object \n",
      " 5   Age          714 non-null    float64\n",
      " 6   SibSp        891 non-null    int64  \n",
      " 7   Parch        891 non-null    int64  \n",
      " 8   Ticket       891 non-null    object \n",
      " 9   Fare         891 non-null    float64\n",
      " 10  Cabin        204 non-null    object \n",
      " 11  Embarked     889 non-null    object \n",
      "dtypes: float64(2), int64(5), object(5)\n",
      "memory usage: 83.7+ KB\n"
     ]
    }
   ],
   "source": [
    "train_data.info()"
   ]
  },
  {
   "cell_type": "code",
   "execution_count": 6,
   "id": "7798f499",
   "metadata": {
    "execution": {
     "iopub.execute_input": "2024-01-18T16:54:39.761758Z",
     "iopub.status.busy": "2024-01-18T16:54:39.760881Z",
     "iopub.status.idle": "2024-01-18T16:54:39.775664Z",
     "shell.execute_reply": "2024-01-18T16:54:39.774400Z"
    },
    "papermill": {
     "duration": 0.032805,
     "end_time": "2024-01-18T16:54:39.778633",
     "exception": false,
     "start_time": "2024-01-18T16:54:39.745828",
     "status": "completed"
    },
    "tags": []
   },
   "outputs": [
    {
     "name": "stdout",
     "output_type": "stream",
     "text": [
      "<class 'pandas.core.frame.DataFrame'>\n",
      "RangeIndex: 418 entries, 0 to 417\n",
      "Data columns (total 11 columns):\n",
      " #   Column       Non-Null Count  Dtype  \n",
      "---  ------       --------------  -----  \n",
      " 0   PassengerId  418 non-null    int64  \n",
      " 1   Pclass       418 non-null    int64  \n",
      " 2   Name         418 non-null    object \n",
      " 3   Sex          418 non-null    object \n",
      " 4   Age          332 non-null    float64\n",
      " 5   SibSp        418 non-null    int64  \n",
      " 6   Parch        418 non-null    int64  \n",
      " 7   Ticket       418 non-null    object \n",
      " 8   Fare         417 non-null    float64\n",
      " 9   Cabin        91 non-null     object \n",
      " 10  Embarked     418 non-null    object \n",
      "dtypes: float64(2), int64(4), object(5)\n",
      "memory usage: 36.0+ KB\n"
     ]
    }
   ],
   "source": [
    "test_data.info()"
   ]
  },
  {
   "cell_type": "markdown",
   "id": "1ac207f7",
   "metadata": {
    "papermill": {
     "duration": 0.012158,
     "end_time": "2024-01-18T16:54:39.802883",
     "exception": false,
     "start_time": "2024-01-18T16:54:39.790725",
     "status": "completed"
    },
    "tags": []
   },
   "source": [
    "# Clean up Data"
   ]
  },
  {
   "cell_type": "code",
   "execution_count": 7,
   "id": "79b038bc",
   "metadata": {
    "execution": {
     "iopub.execute_input": "2024-01-18T16:54:39.829295Z",
     "iopub.status.busy": "2024-01-18T16:54:39.828897Z",
     "iopub.status.idle": "2024-01-18T16:54:39.843604Z",
     "shell.execute_reply": "2024-01-18T16:54:39.842399Z"
    },
    "papermill": {
     "duration": 0.030774,
     "end_time": "2024-01-18T16:54:39.845871",
     "exception": false,
     "start_time": "2024-01-18T16:54:39.815097",
     "status": "completed"
    },
    "tags": []
   },
   "outputs": [],
   "source": [
    "train_data = train_data.drop(labels=['Cabin'], axis=1)\n",
    "train_data = train_data.drop(labels=['Age'], axis=1)\n",
    "train_data = train_data.drop(labels=['Name'],axis=1)\n",
    "train_data = train_data.drop(labels=['Embarked'],axis=1)\n",
    "train_data = train_data.drop(labels=['Ticket'],axis=1)"
   ]
  },
  {
   "cell_type": "code",
   "execution_count": 8,
   "id": "8659c53b",
   "metadata": {
    "execution": {
     "iopub.execute_input": "2024-01-18T16:54:39.872983Z",
     "iopub.status.busy": "2024-01-18T16:54:39.872249Z",
     "iopub.status.idle": "2024-01-18T16:54:39.883244Z",
     "shell.execute_reply": "2024-01-18T16:54:39.882049Z"
    },
    "papermill": {
     "duration": 0.027191,
     "end_time": "2024-01-18T16:54:39.885791",
     "exception": false,
     "start_time": "2024-01-18T16:54:39.858600",
     "status": "completed"
    },
    "tags": []
   },
   "outputs": [],
   "source": [
    "test_data = test_data.drop(labels=['Cabin'], axis=1)\n",
    "test_data = test_data.drop(labels=['Age'], axis=1)\n",
    "test_data = test_data.drop(labels=['Name'],axis=1)\n",
    "test_data = test_data.drop(labels=['Embarked'],axis=1)\n",
    "test_data = test_data.drop(labels=['Ticket'],axis=1)"
   ]
  },
  {
   "cell_type": "code",
   "execution_count": 9,
   "id": "cac663f0",
   "metadata": {
    "execution": {
     "iopub.execute_input": "2024-01-18T16:54:39.912628Z",
     "iopub.status.busy": "2024-01-18T16:54:39.911442Z",
     "iopub.status.idle": "2024-01-18T16:54:39.925220Z",
     "shell.execute_reply": "2024-01-18T16:54:39.924121Z"
    },
    "papermill": {
     "duration": 0.029436,
     "end_time": "2024-01-18T16:54:39.927548",
     "exception": false,
     "start_time": "2024-01-18T16:54:39.898112",
     "status": "completed"
    },
    "tags": []
   },
   "outputs": [
    {
     "data": {
      "text/html": [
       "<div>\n",
       "<style scoped>\n",
       "    .dataframe tbody tr th:only-of-type {\n",
       "        vertical-align: middle;\n",
       "    }\n",
       "\n",
       "    .dataframe tbody tr th {\n",
       "        vertical-align: top;\n",
       "    }\n",
       "\n",
       "    .dataframe thead th {\n",
       "        text-align: right;\n",
       "    }\n",
       "</style>\n",
       "<table border=\"1\" class=\"dataframe\">\n",
       "  <thead>\n",
       "    <tr style=\"text-align: right;\">\n",
       "      <th></th>\n",
       "      <th>PassengerId</th>\n",
       "      <th>Pclass</th>\n",
       "      <th>Sex</th>\n",
       "      <th>SibSp</th>\n",
       "      <th>Parch</th>\n",
       "      <th>Fare</th>\n",
       "    </tr>\n",
       "  </thead>\n",
       "  <tbody>\n",
       "    <tr>\n",
       "      <th>152</th>\n",
       "      <td>1044</td>\n",
       "      <td>3</td>\n",
       "      <td>male</td>\n",
       "      <td>0</td>\n",
       "      <td>0</td>\n",
       "      <td>NaN</td>\n",
       "    </tr>\n",
       "  </tbody>\n",
       "</table>\n",
       "</div>"
      ],
      "text/plain": [
       "     PassengerId  Pclass   Sex  SibSp  Parch  Fare\n",
       "152         1044       3  male      0      0   NaN"
      ]
     },
     "execution_count": 9,
     "metadata": {},
     "output_type": "execute_result"
    }
   ],
   "source": [
    "test_data[test_data['Fare'].isnull()]"
   ]
  },
  {
   "cell_type": "code",
   "execution_count": 10,
   "id": "a67ada28",
   "metadata": {
    "execution": {
     "iopub.execute_input": "2024-01-18T16:54:39.954758Z",
     "iopub.status.busy": "2024-01-18T16:54:39.954049Z",
     "iopub.status.idle": "2024-01-18T16:54:39.962746Z",
     "shell.execute_reply": "2024-01-18T16:54:39.961625Z"
    },
    "papermill": {
     "duration": 0.024713,
     "end_time": "2024-01-18T16:54:39.965199",
     "exception": false,
     "start_time": "2024-01-18T16:54:39.940486",
     "status": "completed"
    },
    "tags": []
   },
   "outputs": [
    {
     "data": {
      "text/plain": [
       "13.675550101832993"
      ]
     },
     "execution_count": 10,
     "metadata": {},
     "output_type": "execute_result"
    }
   ],
   "source": [
    "train_data[train_data['Pclass'] == 3]['Fare'].mean()"
   ]
  },
  {
   "cell_type": "code",
   "execution_count": 11,
   "id": "65534917",
   "metadata": {
    "execution": {
     "iopub.execute_input": "2024-01-18T16:54:39.991701Z",
     "iopub.status.busy": "2024-01-18T16:54:39.991205Z",
     "iopub.status.idle": "2024-01-18T16:54:39.997013Z",
     "shell.execute_reply": "2024-01-18T16:54:39.996029Z"
    },
    "papermill": {
     "duration": 0.021648,
     "end_time": "2024-01-18T16:54:39.999389",
     "exception": false,
     "start_time": "2024-01-18T16:54:39.977741",
     "status": "completed"
    },
    "tags": []
   },
   "outputs": [],
   "source": [
    "test_data.loc[152, 'Fare'] = 13.67"
   ]
  },
  {
   "cell_type": "code",
   "execution_count": 12,
   "id": "ac0951cf",
   "metadata": {
    "execution": {
     "iopub.execute_input": "2024-01-18T16:54:40.026174Z",
     "iopub.status.busy": "2024-01-18T16:54:40.025773Z",
     "iopub.status.idle": "2024-01-18T16:54:40.038483Z",
     "shell.execute_reply": "2024-01-18T16:54:40.037259Z"
    },
    "papermill": {
     "duration": 0.029543,
     "end_time": "2024-01-18T16:54:40.041443",
     "exception": false,
     "start_time": "2024-01-18T16:54:40.011900",
     "status": "completed"
    },
    "tags": []
   },
   "outputs": [
    {
     "name": "stdout",
     "output_type": "stream",
     "text": [
      "<class 'pandas.core.frame.DataFrame'>\n",
      "RangeIndex: 891 entries, 0 to 890\n",
      "Data columns (total 7 columns):\n",
      " #   Column       Non-Null Count  Dtype  \n",
      "---  ------       --------------  -----  \n",
      " 0   PassengerId  891 non-null    int64  \n",
      " 1   Survived     891 non-null    int64  \n",
      " 2   Pclass       891 non-null    int64  \n",
      " 3   Sex          891 non-null    object \n",
      " 4   SibSp        891 non-null    int64  \n",
      " 5   Parch        891 non-null    int64  \n",
      " 6   Fare         891 non-null    float64\n",
      "dtypes: float64(1), int64(5), object(1)\n",
      "memory usage: 48.9+ KB\n"
     ]
    }
   ],
   "source": [
    "train_data.info()"
   ]
  },
  {
   "cell_type": "code",
   "execution_count": 13,
   "id": "2031de67",
   "metadata": {
    "execution": {
     "iopub.execute_input": "2024-01-18T16:54:40.070174Z",
     "iopub.status.busy": "2024-01-18T16:54:40.069772Z",
     "iopub.status.idle": "2024-01-18T16:54:40.077158Z",
     "shell.execute_reply": "2024-01-18T16:54:40.076087Z"
    },
    "papermill": {
     "duration": 0.024122,
     "end_time": "2024-01-18T16:54:40.079661",
     "exception": false,
     "start_time": "2024-01-18T16:54:40.055539",
     "status": "completed"
    },
    "tags": []
   },
   "outputs": [],
   "source": [
    "train_data = train_data.replace(to_replace=['male','female'],value=[1,0])"
   ]
  },
  {
   "cell_type": "code",
   "execution_count": 14,
   "id": "3ad329f3",
   "metadata": {
    "execution": {
     "iopub.execute_input": "2024-01-18T16:54:40.106958Z",
     "iopub.status.busy": "2024-01-18T16:54:40.106568Z",
     "iopub.status.idle": "2024-01-18T16:54:40.112967Z",
     "shell.execute_reply": "2024-01-18T16:54:40.111983Z"
    },
    "papermill": {
     "duration": 0.022981,
     "end_time": "2024-01-18T16:54:40.115247",
     "exception": false,
     "start_time": "2024-01-18T16:54:40.092266",
     "status": "completed"
    },
    "tags": []
   },
   "outputs": [],
   "source": [
    "test_data = test_data.replace(to_replace=['male','female'],value=[1,0])"
   ]
  },
  {
   "cell_type": "markdown",
   "id": "88098fa9",
   "metadata": {
    "papermill": {
     "duration": 0.012203,
     "end_time": "2024-01-18T16:54:40.140127",
     "exception": false,
     "start_time": "2024-01-18T16:54:40.127924",
     "status": "completed"
    },
    "tags": []
   },
   "source": [
    "# Analysis"
   ]
  },
  {
   "cell_type": "code",
   "execution_count": 15,
   "id": "01febbf0",
   "metadata": {
    "execution": {
     "iopub.execute_input": "2024-01-18T16:54:40.167121Z",
     "iopub.status.busy": "2024-01-18T16:54:40.166742Z",
     "iopub.status.idle": "2024-01-18T16:54:40.178237Z",
     "shell.execute_reply": "2024-01-18T16:54:40.177113Z"
    },
    "papermill": {
     "duration": 0.028668,
     "end_time": "2024-01-18T16:54:40.181562",
     "exception": false,
     "start_time": "2024-01-18T16:54:40.152894",
     "status": "completed"
    },
    "tags": []
   },
   "outputs": [
    {
     "name": "stdout",
     "output_type": "stream",
     "text": [
      "<class 'pandas.core.frame.DataFrame'>\n",
      "RangeIndex: 891 entries, 0 to 890\n",
      "Data columns (total 7 columns):\n",
      " #   Column       Non-Null Count  Dtype  \n",
      "---  ------       --------------  -----  \n",
      " 0   PassengerId  891 non-null    int64  \n",
      " 1   Survived     891 non-null    int64  \n",
      " 2   Pclass       891 non-null    int64  \n",
      " 3   Sex          891 non-null    int64  \n",
      " 4   SibSp        891 non-null    int64  \n",
      " 5   Parch        891 non-null    int64  \n",
      " 6   Fare         891 non-null    float64\n",
      "dtypes: float64(1), int64(6)\n",
      "memory usage: 48.9 KB\n"
     ]
    }
   ],
   "source": [
    "train_data.info()"
   ]
  },
  {
   "cell_type": "code",
   "execution_count": 16,
   "id": "26fca434",
   "metadata": {
    "execution": {
     "iopub.execute_input": "2024-01-18T16:54:40.209138Z",
     "iopub.status.busy": "2024-01-18T16:54:40.208681Z",
     "iopub.status.idle": "2024-01-18T16:54:40.557240Z",
     "shell.execute_reply": "2024-01-18T16:54:40.556036Z"
    },
    "papermill": {
     "duration": 0.365308,
     "end_time": "2024-01-18T16:54:40.559918",
     "exception": false,
     "start_time": "2024-01-18T16:54:40.194610",
     "status": "completed"
    },
    "tags": []
   },
   "outputs": [
    {
     "data": {
      "text/plain": [
       "<Axes: xlabel='Pclass', ylabel='count'>"
      ]
     },
     "execution_count": 16,
     "metadata": {},
     "output_type": "execute_result"
    },
    {
     "data": {
      "image/png": "[encoded data removed]",
      "text/plain": [
       "<Figure size 640x480 with 1 Axes>"
      ]
     },
     "metadata": {},
     "output_type": "display_data"
    }
   ],
   "source": [
    "sns.countplot(data=train_data,x='Pclass',hue='Survived')"
   ]
  },
  {
   "cell_type": "code",
   "execution_count": 17,
   "id": "786e0624",
   "metadata": {
    "execution": {
     "iopub.execute_input": "2024-01-18T16:54:40.590251Z",
     "iopub.status.busy": "2024-01-18T16:54:40.589819Z",
     "iopub.status.idle": "2024-01-18T16:54:40.606075Z",
     "shell.execute_reply": "2024-01-18T16:54:40.604815Z"
    },
    "papermill": {
     "duration": 0.034226,
     "end_time": "2024-01-18T16:54:40.608344",
     "exception": false,
     "start_time": "2024-01-18T16:54:40.574118",
     "status": "completed"
    },
    "tags": []
   },
   "outputs": [
    {
     "name": "stdout",
     "output_type": "stream",
     "text": [
      "Class 1 Survival Rate:  0.6296296296296297\n",
      "Class 2 Survival Rate:  0.47282608695652173\n",
      "Class 3 Survival Rate:  0.24236252545824846\n"
     ]
    }
   ],
   "source": [
    "passenger_class = 1\n",
    "class1_srate = train_data[train_data['Pclass'] == passenger_class]['Survived'].value_counts()[1] / train_data[train_data['Pclass'] == passenger_class]['Survived'].count()\n",
    "\n",
    "passenger_class = 2\n",
    "class2_srate = train_data[train_data['Pclass'] == passenger_class]['Survived'].value_counts()[1] / train_data[train_data['Pclass'] == passenger_class]['Survived'].count()\n",
    "\n",
    "passenger_class = 3\n",
    "class3_srate = train_data[train_data['Pclass'] == passenger_class]['Survived'].value_counts()[1] / train_data[train_data['Pclass'] == passenger_class]['Survived'].count()\n",
    "\n",
    "print(\"Class 1 Survival Rate: \", class1_srate)\n",
    "print(\"Class 2 Survival Rate: \", class2_srate)\n",
    "print(\"Class 3 Survival Rate: \", class3_srate)"
   ]
  },
  {
   "cell_type": "code",
   "execution_count": 18,
   "id": "673a3215",
   "metadata": {
    "execution": {
     "iopub.execute_input": "2024-01-18T16:54:40.638491Z",
     "iopub.status.busy": "2024-01-18T16:54:40.638076Z",
     "iopub.status.idle": "2024-01-18T16:54:40.650880Z",
     "shell.execute_reply": "2024-01-18T16:54:40.649608Z"
    },
    "papermill": {
     "duration": 0.030519,
     "end_time": "2024-01-18T16:54:40.653398",
     "exception": false,
     "start_time": "2024-01-18T16:54:40.622879",
     "status": "completed"
    },
    "tags": []
   },
   "outputs": [
    {
     "name": "stdout",
     "output_type": "stream",
     "text": [
      "Male Survival Rate:  0.18890814558058924\n",
      "Female Survival Rate:  0.7420382165605095\n"
     ]
    }
   ],
   "source": [
    "male = 1\n",
    "female = 0\n",
    "\n",
    "male_srate = train_data[train_data['Sex'] == male]['Survived'].value_counts()[1] / train_data[train_data['Sex'] == male]['Survived'].count()\n",
    "female_srate = train_data[train_data['Sex'] == female]['Survived'].value_counts()[1] / train_data[train_data['Sex'] == female]['Survived'].count()\n",
    "\n",
    "print(\"Male Survival Rate: \", male_srate)\n",
    "print(\"Female Survival Rate: \", female_srate)"
   ]
  },
  {
   "cell_type": "code",
   "execution_count": 19,
   "id": "f175a3e2",
   "metadata": {
    "execution": {
     "iopub.execute_input": "2024-01-18T16:54:40.683172Z",
     "iopub.status.busy": "2024-01-18T16:54:40.682511Z",
     "iopub.status.idle": "2024-01-18T16:54:40.688650Z",
     "shell.execute_reply": "2024-01-18T16:54:40.687499Z"
    },
    "papermill": {
     "duration": 0.024219,
     "end_time": "2024-01-18T16:54:40.691120",
     "exception": false,
     "start_time": "2024-01-18T16:54:40.666901",
     "status": "completed"
    },
    "tags": []
   },
   "outputs": [],
   "source": [
    "X_train = train_data.drop('Survived',axis=1)\n",
    "y_train = train_data['Survived']"
   ]
  },
  {
   "cell_type": "code",
   "execution_count": 20,
   "id": "0c9dc8c5",
   "metadata": {
    "execution": {
     "iopub.execute_input": "2024-01-18T16:54:40.719723Z",
     "iopub.status.busy": "2024-01-18T16:54:40.719297Z",
     "iopub.status.idle": "2024-01-18T16:54:41.224125Z",
     "shell.execute_reply": "2024-01-18T16:54:41.222940Z"
    },
    "papermill": {
     "duration": 0.522268,
     "end_time": "2024-01-18T16:54:41.226947",
     "exception": false,
     "start_time": "2024-01-18T16:54:40.704679",
     "status": "completed"
    },
    "tags": []
   },
   "outputs": [
    {
     "data": {
      "text/plain": [
       "<Axes: xlabel='Pclass', ylabel='Sex'>"
      ]
     },
     "execution_count": 20,
     "metadata": {},
     "output_type": "execute_result"
    },
    {
     "data": {
      "image/png": "[encoded data removed]",
      "text/plain": [
       "<Figure size 640x480 with 1 Axes>"
      ]
     },
     "metadata": {},
     "output_type": "display_data"
    }
   ],
   "source": [
    "sns.scatterplot(data=train_data,x='Pclass',y='Sex',hue='Survived')"
   ]
  },
  {
   "cell_type": "code",
   "execution_count": 21,
   "id": "77ec38a8",
   "metadata": {
    "execution": {
     "iopub.execute_input": "2024-01-18T16:54:41.256632Z",
     "iopub.status.busy": "2024-01-18T16:54:41.256210Z",
     "iopub.status.idle": "2024-01-18T16:55:01.833368Z",
     "shell.execute_reply": "2024-01-18T16:55:01.831755Z"
    },
    "papermill": {
     "duration": 20.596797,
     "end_time": "2024-01-18T16:55:01.837900",
     "exception": false,
     "start_time": "2024-01-18T16:54:41.241103",
     "status": "completed"
    },
    "tags": []
   },
   "outputs": [],
   "source": [
    "from sklearn.svm import SVC\n",
    "\n",
    "SVC_model = SVC(kernel='linear',C=1.0)\n",
    "trained_SVC_model = SVC_model.fit(X=X_train,y=y_train)"
   ]
  },
  {
   "cell_type": "code",
   "execution_count": 22,
   "id": "4a086dcd",
   "metadata": {
    "execution": {
     "iopub.execute_input": "2024-01-18T16:55:01.936413Z",
     "iopub.status.busy": "2024-01-18T16:55:01.935692Z",
     "iopub.status.idle": "2024-01-18T16:55:01.950257Z",
     "shell.execute_reply": "2024-01-18T16:55:01.948867Z"
    },
    "papermill": {
     "duration": 0.032905,
     "end_time": "2024-01-18T16:55:01.953205",
     "exception": false,
     "start_time": "2024-01-18T16:55:01.920300",
     "status": "completed"
    },
    "tags": []
   },
   "outputs": [
    {
     "name": "stdout",
     "output_type": "stream",
     "text": [
      "[0 1 0 0 1 0 1 0 1 0 0 0 1 0 1 1 0 0 1 1 0 0 1 0 1 0 1 0 0 0 0 0 1 1 0 0 1\n",
      " 1 0 0 0 0 0 1 1 0 0 0 1 1 0 0 1 1 0 0 0 0 0 1 0 0 0 1 0 1 1 0 0 1 1 0 1 0\n",
      " 1 0 0 1 0 1 0 0 0 0 0 0 1 1 1 0 1 0 1 0 0 0 1 0 1 0 1 0 0 0 1 0 0 0 0 0 0\n",
      " 1 1 1 1 0 0 1 0 1 1 0 1 0 0 1 0 1 0 0 0 0 1 0 0 0 0 0 1 0 0 1 0 0 0 0 0 0\n",
      " 0 0 1 0 0 1 0 0 1 1 0 1 1 0 1 0 0 1 0 0 1 1 0 0 0 0 0 1 1 0 1 1 0 0 1 0 1\n",
      " 0 1 0 0 0 0 0 0 0 0 0 0 1 0 1 1 0 0 1 0 0 1 0 1 0 0 0 0 1 0 0 1 0 1 0 1 0\n",
      " 1 0 1 1 0 1 0 0 0 1 0 0 0 0 0 0 1 1 1 1 0 0 0 0 1 0 1 1 1 0 0 0 0 0 0 0 1\n",
      " 0 0 0 1 1 0 0 0 0 1 0 0 0 1 1 0 1 0 0 0 0 1 0 1 1 1 0 0 0 0 0 0 1 0 0 0 0\n",
      " 1 0 0 0 0 0 0 0 1 1 0 0 0 1 0 0 0 1 1 1 0 0 0 0 0 0 0 0 1 0 1 0 0 0 1 0 0\n",
      " 1 0 0 0 0 0 0 0 0 0 1 0 1 0 1 0 1 1 0 0 0 1 0 1 0 0 1 0 1 1 0 1 0 0 1 1 0\n",
      " 0 1 0 0 1 1 1 0 0 0 0 0 1 1 0 1 0 0 0 0 0 1 0 0 0 1 0 1 0 0 1 0 1 0 0 0 0\n",
      " 0 1 1 1 1 1 0 1 0 0 0]\n"
     ]
    }
   ],
   "source": [
    "SVC_results = trained_SVC_model.predict(test_data)\n",
    "\n",
    "print(SVC_results)"
   ]
  },
  {
   "cell_type": "markdown",
   "id": "cd47fdf0",
   "metadata": {
    "papermill": {
     "duration": 0.014037,
     "end_time": "2024-01-18T16:55:01.982937",
     "exception": false,
     "start_time": "2024-01-18T16:55:01.968900",
     "status": "completed"
    },
    "tags": []
   },
   "source": [
    "SVM = 0.77511"
   ]
  },
  {
   "cell_type": "code",
   "execution_count": 23,
   "id": "4c44f6ad",
   "metadata": {
    "execution": {
     "iopub.execute_input": "2024-01-18T16:55:02.014754Z",
     "iopub.status.busy": "2024-01-18T16:55:02.014324Z",
     "iopub.status.idle": "2024-01-18T16:55:02.122212Z",
     "shell.execute_reply": "2024-01-18T16:55:02.120974Z"
    },
    "papermill": {
     "duration": 0.127004,
     "end_time": "2024-01-18T16:55:02.125226",
     "exception": false,
     "start_time": "2024-01-18T16:55:01.998222",
     "status": "completed"
    },
    "tags": []
   },
   "outputs": [],
   "source": [
    "from sklearn.tree import DecisionTreeClassifier\n",
    "\n",
    "DTC_model = DecisionTreeClassifier()\n",
    "trained_DTC_model = DTC_model.fit(X=X_train,y=y_train)"
   ]
  },
  {
   "cell_type": "code",
   "execution_count": 24,
   "id": "70d51f93",
   "metadata": {
    "execution": {
     "iopub.execute_input": "2024-01-18T16:55:02.158305Z",
     "iopub.status.busy": "2024-01-18T16:55:02.157911Z",
     "iopub.status.idle": "2024-01-18T16:55:02.167726Z",
     "shell.execute_reply": "2024-01-18T16:55:02.166539Z"
    },
    "papermill": {
     "duration": 0.030683,
     "end_time": "2024-01-18T16:55:02.170707",
     "exception": false,
     "start_time": "2024-01-18T16:55:02.140024",
     "status": "completed"
    },
    "tags": []
   },
   "outputs": [
    {
     "name": "stdout",
     "output_type": "stream",
     "text": [
      "[0 1 0 0 0 0 0 0 1 0 0 0 1 0 1 0 0 0 0 1 1 1 1 1 1 0 1 0 1 0 0 0 1 0 1 0 0\n",
      " 0 0 1 1 1 0 1 1 0 1 0 1 1 1 0 1 1 0 0 0 0 0 1 0 0 0 0 1 1 0 0 1 1 0 0 0 1\n",
      " 1 1 0 1 0 0 1 1 0 0 0 0 0 0 0 0 0 0 1 0 0 0 1 0 0 0 1 0 0 0 0 0 0 0 0 0 0\n",
      " 0 1 1 1 0 0 1 1 0 1 0 1 0 0 1 0 1 0 0 0 1 0 0 0 0 0 0 0 0 0 1 1 0 1 0 1 0\n",
      " 1 0 1 0 0 0 0 0 1 0 1 0 0 1 1 0 0 1 0 0 0 0 0 0 0 0 0 1 1 1 1 1 0 1 1 0 1\n",
      " 0 1 0 0 0 0 0 1 0 0 0 1 0 0 0 1 1 1 1 0 0 0 0 0 0 0 0 1 0 0 0 0 1 1 0 1 0\n",
      " 1 0 0 0 0 0 0 0 1 0 0 0 1 0 1 0 1 1 0 1 1 0 0 1 1 0 0 1 1 0 1 0 0 0 0 0 1\n",
      " 0 0 0 1 0 0 0 0 0 0 0 1 0 1 1 0 0 0 0 0 0 0 1 0 0 1 0 0 1 0 0 0 0 0 1 0 0\n",
      " 1 0 0 0 0 0 1 0 0 1 1 1 1 1 0 0 0 0 1 0 1 0 0 0 0 0 0 1 1 0 1 1 0 0 1 1 0\n",
      " 1 0 0 0 1 0 0 0 0 1 1 1 0 0 1 0 1 1 0 1 1 1 0 1 0 0 1 0 1 1 0 1 0 0 0 1 0\n",
      " 0 1 0 0 1 1 0 0 0 0 0 0 1 1 0 1 0 0 0 1 1 1 1 0 0 1 0 1 0 0 1 0 1 0 1 0 0\n",
      " 1 0 0 0 1 0 0 1 0 0 0]\n"
     ]
    }
   ],
   "source": [
    "DTC_results = trained_DTC_model.predict(test_data)\n",
    "\n",
    "print(DTC_results)"
   ]
  },
  {
   "cell_type": "markdown",
   "id": "226658d5",
   "metadata": {
    "papermill": {
     "duration": 0.015025,
     "end_time": "2024-01-18T16:55:02.200045",
     "exception": false,
     "start_time": "2024-01-18T16:55:02.185020",
     "status": "completed"
    },
    "tags": []
   },
   "source": [
    "DTC = 0.70574"
   ]
  },
  {
   "cell_type": "code",
   "execution_count": 25,
   "id": "8ee4f8cf",
   "metadata": {
    "execution": {
     "iopub.execute_input": "2024-01-18T16:55:02.232170Z",
     "iopub.status.busy": "2024-01-18T16:55:02.231728Z",
     "iopub.status.idle": "2024-01-18T16:55:02.240950Z",
     "shell.execute_reply": "2024-01-18T16:55:02.239662Z"
    },
    "papermill": {
     "duration": 0.028726,
     "end_time": "2024-01-18T16:55:02.243310",
     "exception": false,
     "start_time": "2024-01-18T16:55:02.214584",
     "status": "completed"
    },
    "tags": []
   },
   "outputs": [],
   "source": [
    "from sklearn.neighbors import KNeighborsClassifier\n",
    "\n",
    "KNN_model = KNeighborsClassifier(n_neighbors=1)\n",
    "trained_KNN_model = KNN_model.fit(X=X_train, y=y_train)"
   ]
  },
  {
   "cell_type": "code",
   "execution_count": 26,
   "id": "f55917e5",
   "metadata": {
    "execution": {
     "iopub.execute_input": "2024-01-18T16:55:02.275323Z",
     "iopub.status.busy": "2024-01-18T16:55:02.274869Z",
     "iopub.status.idle": "2024-01-18T16:55:02.317469Z",
     "shell.execute_reply": "2024-01-18T16:55:02.315013Z"
    },
    "papermill": {
     "duration": 0.062871,
     "end_time": "2024-01-18T16:55:02.320601",
     "exception": false,
     "start_time": "2024-01-18T16:55:02.257730",
     "status": "completed"
    },
    "tags": []
   },
   "outputs": [
    {
     "name": "stdout",
     "output_type": "stream",
     "text": [
      "[0 0 0 0 0 0 0 1 0 0 0 1 1 1 1 1 0 0 0 0 1 0 1 1 1 0 1 0 1 0 1 1 0 1 1 0 0\n",
      " 0 0 1 0 1 0 0 1 0 1 0 1 0 1 0 1 1 0 1 0 0 0 1 0 0 0 0 1 0 0 1 1 1 0 0 0 1\n",
      " 1 1 0 1 0 0 0 1 1 0 0 0 0 0 0 1 0 0 1 0 1 0 1 0 0 0 1 1 0 0 0 0 0 0 0 0 0\n",
      " 0 1 0 1 0 0 0 1 1 0 0 1 0 0 0 0 0 0 0 0 1 1 0 0 0 0 0 0 1 1 1 1 1 1 0 1 0\n",
      " 1 1 1 0 0 0 1 0 1 0 1 0 0 0 0 0 0 0 1 1 1 0 0 0 0 0 1 1 1 1 1 1 0 1 1 0 1\n",
      " 0 0 0 1 0 0 0 0 0 1 0 1 0 0 0 0 0 1 0 0 0 0 0 0 0 0 0 1 0 0 1 0 1 1 0 0 0\n",
      " 0 0 0 0 0 0 0 0 1 0 0 0 1 0 1 0 0 1 0 1 1 0 0 1 0 1 0 0 0 0 1 0 0 0 0 0 0\n",
      " 0 0 0 0 0 0 0 0 0 0 0 1 0 1 0 0 0 0 0 0 0 0 0 0 0 0 0 0 1 0 0 1 0 0 1 0 0\n",
      " 1 0 1 0 0 0 0 0 0 0 1 0 1 0 0 0 0 0 1 0 1 0 0 0 0 0 0 0 1 0 1 1 0 0 1 0 0\n",
      " 0 0 0 0 0 0 0 0 0 1 1 0 0 0 0 0 0 1 0 1 1 0 0 1 0 0 0 1 1 0 0 1 1 0 1 1 0\n",
      " 0 1 0 0 1 1 0 0 1 0 0 0 0 0 0 1 0 0 0 0 1 1 0 0 0 1 0 1 0 0 1 0 1 1 0 0 0\n",
      " 1 0 0 0 1 0 0 1 0 0 0]\n"
     ]
    }
   ],
   "source": [
    "KNN_results = trained_KNN_model.predict(test_data)\n",
    "\n",
    "print(KNN_results)"
   ]
  },
  {
   "cell_type": "markdown",
   "id": "28fde872",
   "metadata": {
    "papermill": {
     "duration": 0.014308,
     "end_time": "2024-01-18T16:55:02.349207",
     "exception": false,
     "start_time": "2024-01-18T16:55:02.334899",
     "status": "completed"
    },
    "tags": []
   },
   "source": [
    "KNN = 0.63875"
   ]
  },
  {
   "cell_type": "code",
   "execution_count": 27,
   "id": "c1060f3b",
   "metadata": {
    "execution": {
     "iopub.execute_input": "2024-01-18T16:55:02.381263Z",
     "iopub.status.busy": "2024-01-18T16:55:02.380867Z",
     "iopub.status.idle": "2024-01-18T16:55:02.748794Z",
     "shell.execute_reply": "2024-01-18T16:55:02.747919Z"
    },
    "papermill": {
     "duration": 0.387963,
     "end_time": "2024-01-18T16:55:02.751566",
     "exception": false,
     "start_time": "2024-01-18T16:55:02.363603",
     "status": "completed"
    },
    "tags": []
   },
   "outputs": [],
   "source": [
    "from sklearn.ensemble import RandomForestClassifier\n",
    "\n",
    "RFC_model = RandomForestClassifier()\n",
    "trained_RFC_model = RFC_model.fit(X=X_train, y=y_train)"
   ]
  },
  {
   "cell_type": "code",
   "execution_count": 28,
   "id": "05c1a1fe",
   "metadata": {
    "execution": {
     "iopub.execute_input": "2024-01-18T16:55:02.784468Z",
     "iopub.status.busy": "2024-01-18T16:55:02.783392Z",
     "iopub.status.idle": "2024-01-18T16:55:02.805712Z",
     "shell.execute_reply": "2024-01-18T16:55:02.804563Z"
    },
    "papermill": {
     "duration": 0.041081,
     "end_time": "2024-01-18T16:55:02.808366",
     "exception": false,
     "start_time": "2024-01-18T16:55:02.767285",
     "status": "completed"
    },
    "tags": []
   },
   "outputs": [
    {
     "name": "stdout",
     "output_type": "stream",
     "text": [
      "[0 1 0 0 0 0 1 0 1 0 0 0 1 0 1 1 0 0 0 1 0 0 1 0 1 0 1 0 1 0 0 0 0 0 0 0 0\n",
      " 0 0 1 1 1 0 1 1 0 1 0 1 1 0 0 1 1 0 0 0 0 0 1 0 0 0 1 1 1 0 0 1 1 0 0 0 1\n",
      " 1 0 0 1 0 0 1 0 0 0 0 0 0 0 0 1 1 0 1 0 0 0 1 0 0 0 1 0 0 0 0 0 0 0 0 0 0\n",
      " 0 1 1 1 0 0 0 0 1 1 0 1 0 0 0 0 0 0 0 0 1 0 0 0 0 0 0 0 0 0 1 1 0 1 0 0 0\n",
      " 1 1 1 0 0 1 0 0 1 0 1 1 1 1 1 0 0 0 0 0 1 0 0 0 0 0 0 1 1 0 1 1 0 0 1 0 1\n",
      " 0 1 0 0 0 0 0 1 0 1 0 1 0 0 0 0 1 0 1 0 0 0 0 1 0 0 0 0 1 0 0 0 0 1 0 1 0\n",
      " 1 0 1 1 0 0 0 0 0 1 0 0 0 0 0 0 1 1 1 1 0 0 0 0 1 0 1 1 1 0 0 0 0 0 0 0 1\n",
      " 0 0 0 1 0 0 0 0 0 0 0 0 0 1 0 0 1 0 0 0 0 0 1 0 0 0 0 0 0 0 0 0 0 0 0 0 0\n",
      " 1 0 0 0 0 0 0 0 0 1 1 1 0 1 0 0 0 0 1 1 0 0 0 0 0 0 0 1 1 0 1 0 0 0 1 1 0\n",
      " 0 0 0 0 0 0 0 0 0 0 1 1 1 0 1 0 1 1 0 0 0 0 0 1 0 0 0 0 1 1 0 1 0 0 0 1 0\n",
      " 0 1 0 0 1 1 0 0 0 0 0 0 0 0 0 1 0 0 0 0 0 1 1 0 0 1 0 1 0 0 1 0 1 0 0 0 0\n",
      " 0 1 0 0 1 0 0 1 0 0 0]\n"
     ]
    }
   ],
   "source": [
    "RFC_results = trained_RFC_model.predict(test_data)\n",
    "\n",
    "print(RFC_results)"
   ]
  },
  {
   "cell_type": "code",
   "execution_count": 29,
   "id": "7dad0f4f",
   "metadata": {
    "execution": {
     "iopub.execute_input": "2024-01-18T16:55:02.842284Z",
     "iopub.status.busy": "2024-01-18T16:55:02.840699Z",
     "iopub.status.idle": "2024-01-18T16:55:02.852372Z",
     "shell.execute_reply": "2024-01-18T16:55:02.851186Z"
    },
    "papermill": {
     "duration": 0.032609,
     "end_time": "2024-01-18T16:55:02.855769",
     "exception": false,
     "start_time": "2024-01-18T16:55:02.823160",
     "status": "completed"
    },
    "tags": []
   },
   "outputs": [
    {
     "name": "stdout",
     "output_type": "stream",
     "text": [
      "     PassengerId  Survived\n",
      "0            892         0\n",
      "1            893         1\n",
      "2            894         0\n",
      "3            895         0\n",
      "4            896         0\n",
      "..           ...       ...\n",
      "413         1305         0\n",
      "414         1306         1\n",
      "415         1307         0\n",
      "416         1308         0\n",
      "417         1309         0\n",
      "\n",
      "[418 rows x 2 columns]\n"
     ]
    }
   ],
   "source": [
    "submission = pd.DataFrame(test_data['PassengerId'])\n",
    "submission.insert(value=RFC_results, column='Survived',loc=1)\n",
    "print(submission)"
   ]
  },
  {
   "cell_type": "code",
   "execution_count": 30,
   "id": "e5164f9b",
   "metadata": {
    "execution": {
     "iopub.execute_input": "2024-01-18T16:55:02.890883Z",
     "iopub.status.busy": "2024-01-18T16:55:02.889881Z",
     "iopub.status.idle": "2024-01-18T16:55:02.900827Z",
     "shell.execute_reply": "2024-01-18T16:55:02.899720Z"
    },
    "papermill": {
     "duration": 0.032758,
     "end_time": "2024-01-18T16:55:02.903808",
     "exception": false,
     "start_time": "2024-01-18T16:55:02.871050",
     "status": "completed"
    },
    "tags": []
   },
   "outputs": [],
   "source": [
    "submission.to_csv('submission.csv', index=False)"
   ]
  },
  {
   "cell_type": "code",
   "execution_count": null,
   "id": "69e36dfa",
   "metadata": {
    "papermill": {
     "duration": 0.014508,
     "end_time": "2024-01-18T16:55:02.934298",
     "exception": false,
     "start_time": "2024-01-18T16:55:02.919790",
     "status": "completed"
    },
    "tags": []
   },
   "outputs": [],
   "source": []
  }
 ],
 "metadata": {
  "kaggle": {
   "accelerator": "none",
   "dataSources": [
    {
     "databundleVersionId": 26502,
     "sourceId": 3136,
     "sourceType": "competition"
    }
   ],
   "dockerImageVersionId": 30635,
   "isGpuEnabled": false,
   "isInternetEnabled": true,
   "language": "python",
   "sourceType": "notebook"
  },
  "kernelspec": {
   "display_name": "Python 3",
   "language": "python",
   "name": "python3"
  },
  "language_info": {
   "codemirror_mode": {
    "name": "ipython",
    "version": 3
   },
   "file_extension": ".py",
   "mimetype": "text/x-python",
   "name": "python",
   "nbconvert_exporter": "python",
   "pygments_lexer": "ipython3",
   "version": "3.10.12"
  },
  "papermill": {
   "default_parameters": {},
   "duration": 29.520458,
   "end_time": "2024-01-18T16:55:03.671421",
   "environment_variables": {},
   "exception": null,
   "input_path": "__notebook__.ipynb",
   "output_path": "__notebook__.ipynb",
   "parameters": {},
   "start_time": "2024-01-18T16:54:34.150963",
   "version": "2.4.0"
  }
 },
 "nbformat": 4,
 "nbformat_minor": 5
}
